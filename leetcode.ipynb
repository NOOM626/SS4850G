{
 "cells": [
  {
   "cell_type": "code",
   "execution_count": null,
   "metadata": {},
   "outputs": [],
   "source": [
    "#------------------------ remove duplicate elements ascending order ------------------------------------\n",
    "def removeDup1():\n",
    "    nums = [3,3,4,4,5]\n",
    "    i = 0\n",
    "    for j in range(1, len(nums)):\n",
    "        if nums[i] != nums[j]:\n",
    "            i += 1\n",
    "            nums[i] = nums[j]\n",
    "    i+=1\n",
    "    print(nums[0:i])\n",
    "    # or\n",
    "    nums = [3,3,4,4,4,5]\n",
    "    i = 0\n",
    "    for n in nums:\n",
    "        if i < 1 or n >nums[i-1]:\n",
    "            nums[i] = n\n",
    "            i += 1\n",
    "    print(nums[0:i])"
   ]
  },
  {
   "cell_type": "code",
   "execution_count": null,
   "metadata": {},
   "outputs": [],
   "source": [
    "# --------------------------remove duplicate numbers (at most two same number) -----------------------\n",
    "def removeDuplicates(self, nums):\n",
    "    \"\"\"\n",
    "    :type nums: List[int]\n",
    "    :rtype: int\n",
    "    \"\"\"\n",
    "    i = 0\n",
    "    for n in nums:\n",
    "        if i < 2 or n > nums[i-2]:\n",
    "            nums[i] = n\n",
    "            i += 1\n",
    "    return i  \n",
    "\n"
   ]
  },
  {
   "cell_type": "markdown",
   "metadata": {},
   "source": [
    "##### Moore Voting \n",
    "time complexity: O(n), space complexity: O(1)\n",
    "\n",
    "1. initial vote = 0, candidate = -1\n",
    "2. traverse through the array using for loop\n",
    "3. if vote = 0, choose candidate[i], vote = 1\n",
    "4. if nums[i] != candidate, vote -=1, else vote += 1\n",
    "5. another for loop check if # candidate == n/2\n",
    "\n"
   ]
  },
  {
   "cell_type": "code",
   "execution_count": 3,
   "metadata": {},
   "outputs": [],
   "source": [
    "# ----------------------------- majority element(more than n/2)-----------------------------------------\n",
    "def majorityElement(nums):\n",
    "    nums.sort()\n",
    "    n = len(nums)\n",
    "    return nums[n // 2]  # // is floor division\n",
    "\n",
    "# -------------------------------------- Moore Voting----------------------------------------------\n",
    "def majorityElementMoore(nums, n):\n",
    "    candidate = -1\n",
    "    votes = 0\n",
    "    n = len(nums)\n",
    "    # Finding majority candidate\n",
    "    for i in range(n):\n",
    "        if votes == 0:\n",
    "            candidate = nums[i]\n",
    "            votes = 1\n",
    "        else:\n",
    "            if candidate == nums[i]:\n",
    "                votes +=1\n",
    "            else:\n",
    "                votes -=1\n",
    "    count = 0\n",
    "    for j in range(n):\n",
    "        if nums[i] == candidate:\n",
    "            count += 1\n",
    "    if count > n// 2:\n",
    "        return candidate\n",
    "    else:\n",
    "        return -1\n",
    "    "
   ]
  },
  {
   "cell_type": "code",
   "execution_count": 32,
   "metadata": {},
   "outputs": [
    {
     "name": "stdout",
     "output_type": "stream",
     "text": [
      "[5, 6, 7, 1, 2, 3, 4]\n"
     ]
    }
   ],
   "source": [
    "# rotate array\n",
    "\n",
    "# time exceed solution \n",
    "nums = [1,2,3,4,5,6,7]\n",
    "n = len(nums)\n",
    "k = 3\n",
    "for j in range(k):\n",
    "\n",
    "    for i in range(n-1,0,-1):\n",
    "        temp = nums[i]\n",
    "        nums[i] = nums[i-1]\n",
    "        nums[i-1] = temp\n",
    "print(nums)\n",
    "\n",
    "\n",
    "class Solution:\n",
    "    def rotate(self, nums: List[int], k: int) -> None:\n",
    "        \"\"\"\n",
    "        Do not return anything, modify nums in-place instead.\n",
    "        \"\"\"\n",
    "        k %= len(nums)  # when k > n, user remainder\n",
    "\n",
    "        def reverse(left, right):\n",
    "            while left < right:\n",
    "                nums[left], nums[right] = nums[right], nums[left]\n",
    "                left += 1\n",
    "                right -= 1\n",
    "\n",
    "        reverse(0, len(nums) - 1) # reverse entire arrary\n",
    "        reverse(0, k - 1)  # reverse first k to the original order\n",
    "        reverse(k, len(nums) - 1) # reverse the rest of array to the orignial order\n",
    "\n"
   ]
  },
  {
   "cell_type": "markdown",
   "metadata": {},
   "source": [
    "##### 二叉树遍历"
   ]
  },
  {
   "cell_type": "code",
   "execution_count": null,
   "metadata": {},
   "outputs": [],
   "source": [
    "from typing import Optional\n",
    "\n",
    "# 前序\n",
    "# 根-左-右 先输出root，再遍历子树\n",
    "class TreeNode:\n",
    "    def __init__(self, val=0, left=None, right=None):\n",
    "        self.val = val\n",
    "        self.left = left\n",
    "        self.right = right\n",
    "class Solution:\n",
    "    def preorderTraversal(self, root: Optional[TreeNode]) -> List[int]:\n",
    "        res = []\n",
    "        \n",
    "        def preorder(node):\n",
    "            if not node:\n",
    "                return \n",
    "            res.append(node.val)\n",
    "            preorder(node.left)\n",
    "            preorder(node.right)\n",
    "            return res\n",
    "        return preorder(root)\n",
    "\n",
    "\n",
    "#  Definition for a binary tree node.\n",
    "public class TreeNode {\n",
    "    int val;\n",
    "     TreeNode left;\n",
    "    TreeNode right;\n",
    "    TreeNode() {}\n",
    "    TreeNode(int val) { this.val = val; }\n",
    "    TreeNode(int val, TreeNode left, TreeNode right) {\n",
    "        this.val = val;\n",
    "        this.left = left;\n",
    "        this.right = right;\n",
    "    }\n",
    "}\n",
    "\n",
    "class Solution {\n",
    "    LinkedList<Integer> res = new LinkedList<Integer>();\n",
    "    public List<Integer> preorderTraversal(TreeNode root) {\n",
    "        preorder(root);\n",
    "        return res;\n",
    "    }\n",
    "    public void preorder(TreeNode root){\n",
    "        if (root != null){\n",
    "            res.add(root.val);\n",
    "            preorder(root.left);\n",
    "            preorder(root.right);\n",
    "        }\n",
    "    }\n",
    "}\n",
    "# 中序\n",
    "# 左-root-右， for each sub-tree, do the same thing\n",
    "\n",
    "class Solution {\n",
    "    LinkedList<Integer> res = new LinkedList<Integer>();\n",
    "    public List<Integer> inorderTraversal(TreeNode root) {\n",
    "        inorder(root);\n",
    "        return res;\n",
    "    }\n",
    "    public void inorder(TreeNode root){\n",
    "        if (root != null){\n",
    "            \n",
    "            inorder(root.left);\n",
    "            res.add(root.val);\n",
    "            inorder(root.right);\n",
    "        }\n",
    "    }\n",
    "}\n",
    "# 后序\n",
    "# 左-右-root\n",
    "\n",
    "class Solution {\n",
    "    LinkedList<Integer> res = new LinkedList<Integer>();\n",
    "    public List<Integer> postorderTraversal(TreeNode root) {\n",
    "        postorder(root);\n",
    "        return res;\n",
    "    }\n",
    "    public static void postorder(TreeNode root){\n",
    "        if (root != null){\n",
    "            \n",
    "            postorder(root.left);\n",
    "            postorder(root.right);\n",
    "            res.add(root.val);\n",
    "        }\n",
    "    }\n",
    "}\n",
    "\n",
    "# 层序遍历\n",
    "\n",
    "class Solution {\n",
    "    public List<List<Integer>> levelOrder(TreeNode root) {\n",
    "        if (root == null){\n",
    "            return new  ArrayList<>();\n",
    "        }\n",
    "        Queue<TreeNode> queue =  new ArrayDeque<>();\n",
    "        List<List<Integer>> traversal  = new ArrayList<>();\n",
    "        queue.add(root);\n",
    "        while (! queue.isEmpty()){\n",
    "            List<Integer> currLevel = new ArrayList<>();\n",
    "            int currsize = queue.size();\n",
    "            for (int i = 0; i < currsize; i++){\n",
    "                TreeNode currNode = queue.poll();\n",
    "                currLevel.add(currNode.val);\n",
    "                if (currNode.left != null){\n",
    "                    queue.add(currNode.left);\n",
    "                }\n",
    "                if(currNode.right != null){\n",
    "                    queue.add(currNode.right);\n",
    "                }\n",
    "\n",
    "            }\n",
    "            traversal.add(currLevel);\n",
    "        }\n",
    "        return traversal;\n",
    "        \n",
    "    }\n",
    "}\n",
    "\n"
   ]
  },
  {
   "cell_type": "code",
   "execution_count": 3,
   "metadata": {},
   "outputs": [
    {
     "name": "stdout",
     "output_type": "stream",
     "text": [
      "[1, 2, 3, 4]\n",
      "[1, 2, 3, 4]\n",
      "[1, 2, 4, 4]\n"
     ]
    }
   ],
   "source": [
    "# remove element\n",
    "\n",
    "nums = [1,2,3,4]\n",
    "k = 0\n",
    "val = 3\n",
    "for i in range(len(nums)):\n",
    "        if nums[i] != val:\n",
    "            nums[k] = nums[i]\n",
    "            print(nums)\n",
    "            k += 1"
   ]
  },
  {
   "cell_type": "code",
   "execution_count": 16,
   "metadata": {},
   "outputs": [
    {
     "name": "stdout",
     "output_type": "stream",
     "text": [
      "[2, 4, 5, 2, 3, 0, 1, 0, 1]\n",
      "[0, 0, 1, 1, 2, 2, 3, 4, 5]\n"
     ]
    }
   ],
   "source": [
    "nums = [2,4,5,2,3,0,1,0,1]\n",
    "\n",
    "nums.sort()\n",
    "print(nums)"
   ]
  },
  {
   "cell_type": "code",
   "execution_count": 24,
   "metadata": {},
   "outputs": [
    {
     "name": "stdout",
     "output_type": "stream",
     "text": [
      "[0, 0, 1, 1, 1, 1, 2, 3, 4, 4, 5]\n",
      "[0, 0, 1, 1, 1, 1, 2, 3, 4, 4, 5]\n",
      "[0, 0, 1, 1, 2, 1, 2, 3, 4, 4, 5]\n",
      "[0, 0, 1, 1, 2, 3, 2, 3, 4, 4, 5]\n",
      "[0, 0, 1, 1, 2, 3, 4, 3, 4, 4, 5]\n",
      "[0, 0, 1, 1, 2, 3, 4, 4, 4, 4, 5]\n",
      "[0, 0, 1, 1, 2, 3, 4, 4, 5, 4, 5]\n"
     ]
    },
    {
     "data": {
      "text/plain": [
       "9"
      ]
     },
     "execution_count": 24,
     "metadata": {},
     "output_type": "execute_result"
    }
   ],
   "source": [
    "# delete duplicate in a sorted arrary\n",
    "# k = # max duplicate allowed\n",
    "\n",
    "def removeDuplicates(nums, tol=1):\n",
    "    k = tol\n",
    "    for i in range(tol, len(nums)):\n",
    "        nums[k] = nums[i]\n",
    "        if nums[i] != nums[k-tol]:\n",
    "            print(nums)\n",
    "            k+=1\n",
    "    return k\n",
    "nums = [0,0,0,1,1,1,2,3,4,4,5]\n",
    "removeDuplicates(nums,2)"
   ]
  },
  {
   "cell_type": "markdown",
   "metadata": {},
   "source": [
    "##### Buy and sell "
   ]
  },
  {
   "cell_type": "code",
   "execution_count": 18,
   "metadata": {},
   "outputs": [
    {
     "name": "stdout",
     "output_type": "stream",
     "text": [
      "[[0, 6, 2, 4, 1, 3], [0, 0, -4, -2, -5, -3], [0, 0, 0, 2, -1, 1], [0, 0, 0, 0, -3, -1], [0, 0, 0, 0, 0, 2], [0, 0, 0, 0, 0, 0]]\n"
     ]
    },
    {
     "data": {
      "text/plain": [
       "[[0, 6, 2, 4, 1, 3],\n",
       " [0, 0, -4, -2, -5, -3],\n",
       " [0, 0, 0, 2, -1, 1],\n",
       " [0, 0, 0, 0, -3, -1],\n",
       " [0, 0, 0, 0, 0, 2],\n",
       " [0, 0, 0, 0, 0, 0]]"
      ]
     },
     "execution_count": 18,
     "metadata": {},
     "output_type": "execute_result"
    }
   ],
   "source": [
    "## Memory Limit Exceeded\n",
    "prices =[7,1,5,3,6,4]\n",
    "n = len(prices)\n",
    "max_value = 0\n",
    "res = [[0 for i in range(n)] for j in range(n)]\n",
    "for row in range(len(prices)):\n",
    "    for col in range(row,len(prices)):\n",
    "        res[row][col] = prices[row] - prices[col]\n",
    "for i in range(len(res)):\n",
    "    max_value = min(max_value, min(res[i]))\n",
    "\n",
    "res"
   ]
  },
  {
   "cell_type": "code",
   "execution_count": 19,
   "metadata": {},
   "outputs": [
    {
     "data": {
      "text/plain": [
       "-5"
      ]
     },
     "execution_count": 19,
     "metadata": {},
     "output_type": "execute_result"
    }
   ],
   "source": [
    "# space: O(1), time: O(N) \n",
    "prices =[7,1,5,3,6,4]\n",
    "n = len(prices)\n",
    "buy = prices[0]\n",
    "max_value = 0\n",
    "for i in range(1,len(prices)):\n",
    "    if buy > prices[i]:\n",
    "        buy = prices[i]\n",
    "    max_value = max(max_value, prices[i]-buy)\n"
   ]
  },
  {
   "cell_type": "code",
   "execution_count": 15,
   "metadata": {},
   "outputs": [
    {
     "data": {
      "text/plain": [
       "'0 6 2 4 1 3'"
      ]
     },
     "execution_count": 15,
     "metadata": {},
     "output_type": "execute_result"
    }
   ],
   "source": [
    "# join() method to concatenate the list elements into a string \n",
    "(' '.join(map(str, res[0])))"
   ]
  },
  {
   "cell_type": "markdown",
   "metadata": {},
   "source": [
    "##### Buy And Sell\n",
    "You are given an integer array prices where prices[i] is the price of a given stock on the ith day.\n",
    "\n",
    "On each day, you may decide to buy and/or sell the stock. You can only hold at most one share of the stock at any time. However, you can buy it then immediately sell it on the same day."
   ]
  },
  {
   "cell_type": "code",
   "execution_count": 37,
   "metadata": {},
   "outputs": [
    {
     "data": {
      "text/plain": [
       "7"
      ]
     },
     "execution_count": 37,
     "metadata": {},
     "output_type": "execute_result"
    }
   ],
   "source": [
    "prices =[7,1,5,3,6,4]\n",
    "n = len(prices)\n",
    "max_value = 0\n",
    "for i in range(1, n):\n",
    "    # previous price > current price, then buy stock at preivous price and sell it at curr\n",
    "    if prices[i]>prices[i-1]:  \n",
    "        max_value += prices[i] - prices[i-1]\n",
    "max_value"
   ]
  },
  {
   "cell_type": "markdown",
   "metadata": {},
   "source": [
    "##### Jump Game\n",
    "\n",
    "\n",
    "1. You are given an integer array nums. You are initially positioned at the array's first index, and each element in the array represents your maximum jump length at that position. Return true if you can reach the last index, or false otherwise.\n",
    "\n",
    "2. You are given a 0-indexed array of integers nums of length n. You are initially positioned at nums[0]. Each element nums[i] represents the maximum length of a forward jump from index i. In other words, if you are at nums[i], you can jump to any nums[i + j] where:\n",
    "\n",
    "    0 <= j <= nums[i] and\n",
    "    i + j < n \n",
    "    \n",
    "    Return the minimum number of jumps to reach nums[n - 1]. The test cases are generated such that you can reach nums[n - 1]."
   ]
  },
  {
   "cell_type": "code",
   "execution_count": 45,
   "metadata": {},
   "outputs": [],
   "source": [
    "# 最后目标是固定的，回溯看是否在当前位置（goal的前一步）可以跳到goal， 如果可以，更新goal = current position\n",
    "nums = [2,3,1,1,4]\n",
    "def jump(nums):\n",
    "    n= len(nums)\n",
    "    goal = n-1\n",
    "    # index : current position, value: # max jump \n",
    "    # from 2nd last to first \n",
    "    # range(start, end, step): include start, not include end\n",
    "    for i in range(n-2,-1,-1):\n",
    "        if i + nums[i] >= goal:\n",
    "            goal = i\n",
    "\n",
    "\n",
    "    if goal == 0:\n",
    "        return True\n",
    "    return False\n",
    "\n",
    "\n"
   ]
  },
  {
   "cell_type": "code",
   "execution_count": null,
   "metadata": {},
   "outputs": [],
   "source": [
    "\n",
    "def jump(nums):\n",
    "    near = 0  # start of curr range\n",
    "    far = 0  # end of curr range\n",
    "    count = 0\n",
    "    while far < len(nums) - 1: # stop if far >= the lenght of range\n",
    "        farthest = 0\n",
    "        for i in range(near, far+1):\n",
    "            farthest = max(farthest, i+nums[i])\n",
    "        near = far+1\n",
    "        far = farthest\n",
    "        count += 1\n",
    "    return count\n",
    "\n",
    "    "
   ]
  },
  {
   "cell_type": "markdown",
   "metadata": {},
   "source": [
    "##### H-index\n",
    "\n",
    "The h-index is defined as the maximum value of h such that the given researcher has published at least h papers that have each been cited at least h times."
   ]
  },
  {
   "cell_type": "code",
   "execution_count": 48,
   "metadata": {},
   "outputs": [
    {
     "data": {
      "text/plain": [
       "3"
      ]
     },
     "execution_count": 48,
     "metadata": {},
     "output_type": "execute_result"
    }
   ],
   "source": [
    "citations = [3,0,6,1,5]\n",
    "def HIndex(citations):\n",
    "\n",
    "    n = len(citations)\n",
    "    citations.sort()\n",
    "    h = -1\n",
    "    for i,v in enumerate(citations):\n",
    "        if n-i <= v:   # n-i number of paper with at least n-i citations # v current citations count\n",
    "            h = n-i\n",
    "            return h\n",
    "    return 0"
   ]
  }
 ],
 "metadata": {
  "kernelspec": {
   "display_name": "Python 3",
   "language": "python",
   "name": "python3"
  },
  "language_info": {
   "codemirror_mode": {
    "name": "ipython",
    "version": 3
   },
   "file_extension": ".py",
   "mimetype": "text/x-python",
   "name": "python",
   "nbconvert_exporter": "python",
   "pygments_lexer": "ipython3",
   "version": "3.10.9"
  }
 },
 "nbformat": 4,
 "nbformat_minor": 2
}
